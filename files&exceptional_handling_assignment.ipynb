{
  "nbformat": 4,
  "nbformat_minor": 0,
  "metadata": {
    "colab": {
      "provenance": []
    },
    "kernelspec": {
      "name": "python3",
      "display_name": "Python 3"
    },
    "language_info": {
      "name": "python"
    }
  },
  "cells": [
    {
      "cell_type": "markdown",
      "source": [
        "# 1. What is the difference between interpreted and compiled languages?\n",
        "- Interpreted languages are executed line-by-line by an interpreter, which makes them slower in execution. Examples include Python and JavaScript.\n",
        "- Compiled languages are first translated into machine code by a compiler and then executed. This leads to faster execution. Examples include C, C++, and Java.\n",
        "\n",
        "# 2. What is exception handling in Python?\n",
        "- Exception handling in Python allows the program to handle errors or exceptions without crashing. It uses try, except, else, and finally blocks.\n",
        "\n",
        "# 3. What is the purpose of the finally block in exception handling?\n",
        "- The finally block is always executed, whether or not an exception occurred in the try block. It is typically used to perform cleanup actions, such as closing files or releasing resources.\n",
        "\n",
        "# 4. What is logging in Python?\n",
        "- Logging in Python allows tracking events, errors, and program flow. It provides a way to output information for debugging and monitoring purposes, using the logging module.\n",
        "\n",
        "# 5. What is the significance of the __del__ method in Python?\n",
        "- The __del__ method is called when an object is about to be destroyed, allowing for cleanup actions. However, its use is discouraged due to unpredictable timing of garbage collection.\n",
        "\n",
        "# 6. What is the difference between import and from ... import in Python?\n",
        "- `import module`: Imports the whole module, and you access its functions using the module.function() syntax.\n",
        "- `from module import name`: Imports only specific parts of the module, allowing direct access to the imported functions or classes without needing the module name.\n",
        "\n",
        "# 7. How can you handle multiple exceptions in Python?\n",
        "- Multiple exceptions can be handled by using multiple except blocks or by combining multiple exception types in a tuple:\n",
        "\n",
        "   try:\n",
        "       # Code that may raise an exception\n",
        "   except (TypeError, ValueError):\n",
        "       # Handle multiple exceptions\n",
        "\n",
        "# 8. What is the purpose of the with statement when handling files in Python?\n",
        "- The with statement is used to simplify file handling by automatically managing resources (like opening and closing files) without explicitly using open() and close(). It ensures the file is closed even if an error occurs.\n",
        "\n",
        "# 9. What is the difference between multithreading and multiprocessing?\n",
        "- **Multithreading**: Uses threads within a single process. Threads share the same memory space, making it suitable for I/O-bound tasks.\n",
        "- **Multiprocessing**: Uses multiple processes, each with its own memory space. It is better for CPU-bound tasks as processes do not share memory and can run concurrently on multiple CPUs.\n",
        "\n",
        "# 10. What are the advantages of using logging in a program?\n",
        "- Logging provides visibility into the application's behavior, making it easier to debug and monitor the system. It also allows different levels of logging (e.g., info, error, debug) and can log to various outputs (console, file, etc.).\n",
        "\n",
        "# 11. What is memory management in Python?\n",
        "- Memory management in Python is handled by the Python memory manager, which involves techniques like reference counting and garbage collection. Python automatically handles memory allocation and deallocation.\n",
        "\n",
        "# 12. What are the basic steps involved in exception handling in Python?\n",
        "- try: Code that may raise an exception.\n",
        "- except: Code that runs if an exception occurs.\n",
        "- else: Code that runs if no exception occurs.\n",
        "- finally: Code that runs regardless of whether an exception occurs.\n",
        "\n",
        "# 13. Why is memory management important in Python?\n",
        "- Efficient memory management ensures that resources are used optimally, preventing memory leaks, and helps maintain the performance of the program by releasing unused memory.\n",
        "\n",
        "# 14. What is the role of try and except in exception handling?\n",
        "- try contains code that might raise an exception.\n",
        "- except catches and handles the exception if one occurs, allowing the program to continue execution without crashing.\n",
        "\n",
        "# 15. How does Python's garbage collection system work?\n",
        "- Python uses a garbage collector to automatically reclaim memory by identifying and removing objects that are no longer in use, primarily using reference counting and cyclic garbage collection.\n",
        "\n",
        "# 16. What is the purpose of the else block in exception handling?\n",
        "- The else block runs if no exceptions were raised in the try block. It is typically used for code that should execute only if no errors occurred.\n",
        "\n",
        "# 17. What are the common logging levels in Python?\n",
        "- The common logging levels in Python are:\n",
        " - DEBUG\n",
        " - INFO\n",
        " - WARNING\n",
        " - ERROR\n",
        " - CRITICAL\n",
        "\n",
        "# 18. What is the difference between os.fork() and multiprocessing in Python?\n",
        "- os.fork() creates a child process in the current process. It is primarily available on Unix-like systems.\n",
        "- multiprocessing module allows creating separate processes and supports cross-platform compatibility, including Windows.\n",
        "\n",
        "# 19. What is the importance of closing a file in Python?\n",
        "- Closing a file is essential to release system resources, such as file handles, and ensure that data is properly written and flushed to disk.\n",
        "\n",
        "# 20. What is the difference between file.read() and file.readline() in Python?\n",
        "- file.read() reads the entire file at once.\n",
        "- file.readline() reads one line at a time.\n",
        "\n",
        "# 21. What is the logging module in Python used for?\n",
        "- The logging module provides a flexible framework for logging messages from Python programs. It supports different severity levels and allows logging to files, console, or external systems.\n",
        "\n",
        "# 22. What is the os module in Python used for in file handling?\n",
        "- The os module in Python is used to interact with the operating system, including file handling operations like opening, closing, renaming, and deleting files.\n",
        "\n",
        "# 23. What are the challenges associated with memory management in Python?\n",
        "- Garbage collection overhead: The automatic memory management process can add some overhead, especially in large applications.\n",
        "- Circular references: Python’s garbage collector handles most cases, but circular references (where objects reference each other) can still cause memory leaks if not handled properly.\n",
        "\n",
        "# 24. How do you raise an exception manually in Python?\n",
        "- You can raise an exception using the raise keyword:\n",
        " - raise ValueError(\"An error occurred\")\n",
        "\n",
        "# 25. Why is it important to use multithreading in certain applications?\n",
        "- Multithreading is useful in applications that need to perform multiple I/O-bound tasks concurrently, such as handling multiple user requests, downloading data from multiple sources, or managing long-running tasks while keeping the application responsive.\n"
      ],
      "metadata": {
        "id": "FPj68k59KOXJ"
      }
    },
    {
      "cell_type": "code",
      "source": [
        "# 1. How can you open a file for writing in Python and write a string to it?\n",
        "with open('example.txt', 'w') as file:\n",
        "    file.write(\"Hello, World!\")"
      ],
      "metadata": {
        "id": "IMeG2z6DLxPI"
      },
      "execution_count": null,
      "outputs": []
    },
    {
      "cell_type": "code",
      "source": [
        "# 2. Write a Python program to read the contents of a file and print each line.\n",
        "with open('example.txt', 'r') as file:\n",
        "    for line in file:\n",
        "        print(line)"
      ],
      "metadata": {
        "id": "uF8qvc6rPAPr"
      },
      "execution_count": null,
      "outputs": []
    },
    {
      "cell_type": "code",
      "source": [
        "# 3. How would you handle a case where the file doesn't exist while trying to open it for reading?\n",
        "try:\n",
        "    with open('nonexistent.txt', 'r') as file:\n",
        "        content = file.read()\n",
        "except FileNotFoundError:\n",
        "    print(\"The file does not exist!\")"
      ],
      "metadata": {
        "id": "sjSDK8k1PI3I"
      },
      "execution_count": null,
      "outputs": []
    },
    {
      "cell_type": "code",
      "source": [
        "# 4. Write a Python script that reads from one file and writes its content to another file.\n",
        "with open('source.txt', 'r') as source_file:\n",
        "    content = source_file.read()\n",
        "\n",
        "with open('destination.txt', 'w') as destination_file:\n",
        "    destination_file.write(content)"
      ],
      "metadata": {
        "id": "67NH9jeVPOWt"
      },
      "execution_count": null,
      "outputs": []
    },
    {
      "cell_type": "code",
      "source": [
        "# 5. How would you catch and handle division by zero error in Python?\n",
        "try:\n",
        "    result = 10 / 0\n",
        "except ZeroDivisionError:\n",
        "    print(\"Cannot divide by zero!\")"
      ],
      "metadata": {
        "id": "RcXd9Jf7PWRw"
      },
      "execution_count": null,
      "outputs": []
    },
    {
      "cell_type": "code",
      "source": [
        "# 6. Write a Python program that logs an error message to a log file when a division by zero exception occurs.\n",
        "import logging\n",
        "\n",
        "logging.basicConfig(filename='error.log', level=logging.ERROR)\n",
        "\n",
        "try:\n",
        "    result = 10 / 0\n",
        "except ZeroDivisionError as e:\n",
        "    logging.error(f\"Error: {e}\")"
      ],
      "metadata": {
        "id": "-nu_Dq4TQNeE"
      },
      "execution_count": null,
      "outputs": []
    },
    {
      "cell_type": "code",
      "source": [
        "# 7. How do you log information at different levels (INFO, ERROR, WARNING) in Python using the logging module?\n",
        "import logging\n",
        "\n",
        "logging.basicConfig(level=logging.DEBUG)\n",
        "\n",
        "logging.info(\"This is an info message\")\n",
        "logging.warning(\"This is a warning message\")\n",
        "logging.error(\"This is an error message\")"
      ],
      "metadata": {
        "id": "vgw8PVI1QSFU"
      },
      "execution_count": null,
      "outputs": []
    },
    {
      "cell_type": "code",
      "source": [
        "# 8. Write a program to handle a file opening error using exception handling.\n",
        "try:\n",
        "    with open('file.txt', 'r') as file:\n",
        "        content = file.read()\n",
        "except Exception as e:\n",
        "    print(f\"An error occurred while opening the file: {e}\")"
      ],
      "metadata": {
        "id": "Jpxqc0nMQVTC"
      },
      "execution_count": null,
      "outputs": []
    },
    {
      "cell_type": "code",
      "source": [
        "# 9. How can you read a file line by line and store its content in a list in Python?\n",
        "lines = []\n",
        "with open('example.txt', 'r') as file:\n",
        "    lines = file.readlines()"
      ],
      "metadata": {
        "id": "rWH4lyPYQbKB"
      },
      "execution_count": null,
      "outputs": []
    },
    {
      "cell_type": "code",
      "source": [
        "# 10. How can you append data to an existing file in Python?\n",
        "with open('example.txt', 'a') as file:\n",
        "    file.write(\"\\nAppending this line.\")"
      ],
      "metadata": {
        "id": "AYp0W20UQd5U"
      },
      "execution_count": null,
      "outputs": []
    },
    {
      "cell_type": "code",
      "source": [
        "# 11. Write a Python program that uses a try-except block to handle an error when attempting to access a dictionary key that doesn't exist.\n",
        "my_dict = {'name': 'John'}\n",
        "\n",
        "try:\n",
        "    print(my_dict['age'])\n",
        "except KeyError:\n",
        "    print(\"The key does not exist in the dictionary.\")"
      ],
      "metadata": {
        "id": "cC66jFOXQggw"
      },
      "execution_count": null,
      "outputs": []
    },
    {
      "cell_type": "code",
      "source": [
        "# 12. Write a program that demonstrates using multiple except blocks to handle different types of exceptions.\n",
        "try:\n",
        "    num = int(input(\"Enter a number: \"))\n",
        "    result = 10 / num\n",
        "except ValueError:\n",
        "    print(\"Invalid input! Please enter a number.\")\n",
        "except ZeroDivisionError:\n",
        "    print(\"Cannot divide by zero.\")"
      ],
      "metadata": {
        "id": "5WKmoDY4RQjT"
      },
      "execution_count": null,
      "outputs": []
    },
    {
      "cell_type": "code",
      "source": [
        "# 13. How would you check if a file exists before attempting to read it in Python?\n",
        "import os\n",
        "\n",
        "if os.path.exists('example.txt'):\n",
        "    with open('example.txt', 'r') as file:\n",
        "        content = file.read()\n",
        "else:\n",
        "    print(\"The file does not exist.\")"
      ],
      "metadata": {
        "id": "6_Rg7JafRZfC"
      },
      "execution_count": null,
      "outputs": []
    },
    {
      "cell_type": "code",
      "source": [
        "# 14. Write a program that uses the logging module to log both informational and error messages?\n",
        "import logging\n",
        "\n",
        "logging.basicConfig(filename='program.log', level=logging.DEBUG)\n",
        "\n",
        "logging.info(\"Program started\")\n",
        "try:\n",
        "    result = 10 / 0\n",
        "except ZeroDivisionError as e:\n",
        "    logging.error(f\"Error: {e}\")"
      ],
      "metadata": {
        "id": "9mXLn98bRcFZ"
      },
      "execution_count": null,
      "outputs": []
    },
    {
      "cell_type": "code",
      "source": [
        "# 15. Write a Python program that prints the content of a file and handles the case when the file is empty.\n",
        "try:\n",
        "    with open('example.txt', 'r') as file:\n",
        "        content = file.read()\n",
        "        if not content:\n",
        "            print(\"The file is empty.\")\n",
        "        else:\n",
        "            print(content)\n",
        "except FileNotFoundError:\n",
        "    print(\"The file does not exist!\")"
      ],
      "metadata": {
        "id": "4i2KKY1VRe3T"
      },
      "execution_count": null,
      "outputs": []
    },
    {
      "cell_type": "code",
      "source": [
        "# 16. Demonstrate how to use memory profiling to check the memory usage of a small program.\n",
        "# Memory profiling requires installing the `memory-profiler` package\n",
        "# pip install memory-profiler\n",
        "\n",
        "from memory_profiler import profile\n",
        "\n",
        "@profile\n",
        "def my_func():\n",
        "    x = [i for i in range(1000000)]\n",
        "    return x\n",
        "\n",
        "my_func()"
      ],
      "metadata": {
        "id": "NrBV25hNRid7"
      },
      "execution_count": null,
      "outputs": []
    },
    {
      "cell_type": "code",
      "source": [
        "# 17. Write a Python program to create and write a list of numbers to a file, one number per line.\n",
        "numbers = [1, 2, 3, 4, 5]\n",
        "with open('numbers.txt', 'w') as file:\n",
        "    for num in numbers:\n",
        "        file.write(f\"{num}\\n\")"
      ],
      "metadata": {
        "id": "G1E33oJkRpYs"
      },
      "execution_count": null,
      "outputs": []
    },
    {
      "cell_type": "code",
      "source": [
        "# 18. How would you implement a basic logging setup that logs to a file with rotation after 1MB?\n",
        "import logging\n",
        "from logging.handlers import RotatingFileHandler\n",
        "\n",
        "handler = RotatingFileHandler('app.log', maxBytes=1048576, backupCount=3)\n",
        "logging.basicConfig(handlers=[handler], level=logging.INFO)\n",
        "\n",
        "logging.info(\"This is a log message\")"
      ],
      "metadata": {
        "id": "BbQxdJxXRtsX"
      },
      "execution_count": null,
      "outputs": []
    },
    {
      "cell_type": "code",
      "source": [
        "# 19. Write a program that handles both IndexError and KeyError using a try-except block.\n",
        "my_list = [1, 2, 3]\n",
        "my_dict = {'a': 1, 'b': 2}\n",
        "\n",
        "try:\n",
        "    print(my_list[3])\n",
        "except IndexError:\n",
        "    print(\"Index out of range!\")\n",
        "\n",
        "try:\n",
        "    print(my_dict['c'])\n",
        "except KeyError:\n",
        "    print(\"Key not found in dictionary!\")"
      ],
      "metadata": {
        "id": "A8m5J-PlRxzS"
      },
      "execution_count": null,
      "outputs": []
    },
    {
      "cell_type": "code",
      "source": [
        "# 20. How would you open a file and read its contents using a context manager in Python?\n",
        "with open('example.txt', 'r') as file:\n",
        "    content = file.read()\n",
        "    print(content)"
      ],
      "metadata": {
        "id": "WpOCo7H-R3oP"
      },
      "execution_count": null,
      "outputs": []
    },
    {
      "cell_type": "code",
      "source": [
        "# 21. Write a Python program that reads a file and prints the number of occurrences of a specific word.\n",
        "word_to_find = \"example\"\n",
        "count = 0\n",
        "with open('example.txt', 'r') as file:\n",
        "    for line in file:\n",
        "        count += line.count(word_to_find)\n",
        "\n",
        "print(f\"The word '{word_to_find}' appears {count} times.\")"
      ],
      "metadata": {
        "id": "apnyNArgR8KV"
      },
      "execution_count": null,
      "outputs": []
    },
    {
      "cell_type": "code",
      "source": [
        "# 22. How can you check if a file is empty before attempting to read its contents?\n",
        "import os\n",
        "\n",
        "if os.path.getsize('example.txt') > 0:\n",
        "    with open('example.txt', 'r') as file:\n",
        "        content = file.read()\n",
        "else:\n",
        "    print(\"The file is empty.\")"
      ],
      "metadata": {
        "id": "8AmxMn-MSBZF"
      },
      "execution_count": null,
      "outputs": []
    },
    {
      "cell_type": "code",
      "source": [
        "# 23. Write a Python program that writes to a log file when an error occurs during file handling.\n",
        "import logging\n",
        "\n",
        "logging.basicConfig(filename='file_error.log', level=logging.ERROR)\n",
        "\n",
        "try:\n",
        "    with open('nonexistent.txt', 'r') as file:\n",
        "        content = file.read()\n",
        "except Exception as e:\n",
        "    logging.error(f\"Error: {e}\")"
      ],
      "metadata": {
        "id": "C4iGgGJeSFG2"
      },
      "execution_count": null,
      "outputs": []
    }
  ]
}